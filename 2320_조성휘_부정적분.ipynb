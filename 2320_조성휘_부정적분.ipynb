{
  "nbformat": 4,
  "nbformat_minor": 0,
  "metadata": {
    "colab": {
      "name": "2320 조성휘_부정적분",
      "provenance": [],
      "collapsed_sections": [],
      "authorship_tag": "ABX9TyOS/2qFejqx9Z6z5Dah2XXt",
      "include_colab_link": true
    },
    "kernelspec": {
      "name": "python3",
      "display_name": "Python 3"
    }
  },
  "cells": [
    {
      "cell_type": "markdown",
      "metadata": {
        "id": "view-in-github",
        "colab_type": "text"
      },
      "source": [
        "<a href=\"https://colab.research.google.com/github/jshmauve/Integration-by-parts/blob/main/2320_%EC%A1%B0%EC%84%B1%ED%9C%98_%EB%B6%80%EC%A0%95%EC%A0%81%EB%B6%84.ipynb\" target=\"_parent\"><img src=\"https://colab.research.google.com/assets/colab-badge.svg\" alt=\"Open In Colab\"/></a>"
      ]
    },
    {
      "cell_type": "code",
      "metadata": {
        "id": "EqTE5tGq2-lc"
      },
      "source": [
        "from sympy import * # 수학 관련 라이브러리 호출\r\n",
        "\r\n",
        "init_printing() # 출력값이 수식처럼 보이도록 설정\r\n",
        "\r\n",
        "x = symbols('x') # x를 적분변수, 미분변수로 인식하도록 함\r\n",
        "U, u, V, v ,UV = symbols('U, u, V, v, UV', cls = Function) # U, u, V, v, UV를 함수로 인식하도록 함, u는 U의 도함수, V는 v의 원시함수 \r\n",
        "n, m, A, B = symbols('n, m, A, B', constant = True, zero = False) # n, m, A, B를 상수로 인식하도록 함, 0인 경우 제외\r\n",
        "integr1, integr2 = symbols('integr1, integr2', cls = Function) # 뒤에서 사용할 integr1, integr2를 함수로 인식하도록 함\r\n",
        "\r\n",
        "def Integration_by_parts(U, v, x, loop): # 부분 적분 함수 Integration_by_parts 만듬, 변수는 순서대로 미분할 함수, 적분할 함수, 적분 변수, 몇 번 부분 적분 할지\r\n",
        "    if loop == 0:  # 남은 부분 적분 횟수가 0이 된 경우 \r\n",
        "      t = \"Integration_by_parts(\"+str(U)+\",\"+str(v)+\",\"+str(x)+\")\" # 부분 적분 진행을 끝내고 인테그랄 형태로 반환\r\n",
        "      return t\r\n",
        "    else:\r\n",
        "      u=diff(U, x) # diff는 미분에 대한 함수, 변수는 순서대로 원함수, 미분 변수\r\n",
        "      V=integrate(v, x) # integrate는 적분에 대한 함수, 변수는 순서대로 피적분 함수, 적분 변수\r\n",
        "      UV=U*V # UV라는 함수를 함수 U와 V의 곱으로 지정\r\n",
        "      t = str(UV)+\"+\"+str(Integration_by_parts(-u,V,x, loop-1)) \r\n",
        "# UV-인테그랄(uVdx)가 원래 형태이지만, -를 인테그랄 앞에 문자 형태로 붙이는 경우 다음 적분 시 기호로 인식이 안 되서 적용이 안 됨\r\n",
        "# 이를 해결하기 위해 인테그랄 앞을 +로 하고 새로운 미분할 함수를 u 대신 -u로 쓰는 것으로 형태를 바꿈, loop-1은 부분 적분 진행 횟수를 1회 차감한 것\r\n",
        "      return t # 문자열 형태로 저장된 식을 반환함"
      ],
      "execution_count": null,
      "outputs": []
    },
    {
      "cell_type": "code",
      "metadata": {
        "colab": {
          "base_uri": "https://localhost:8080/"
        },
        "id": "48kEgdyokUl2",
        "outputId": "e603772f-775b-4bb3-abd5-acd7fe25bca8"
      },
      "source": [
        "print(Integration_by_parts(sin(n*x),exp(m*x),x,2)) # expmx sinnx를 2회 부분 적분한 결과를 출력"
      ],
      "execution_count": null,
      "outputs": [
        {
          "output_type": "stream",
          "text": [
            "exp(m*x)*sin(n*x)/m+-n*exp(m*x)*cos(n*x)/m**2+Integration_by_parts(-n**2*sin(n*x),exp(m*x)/m**2,x)\n"
          ],
          "name": "stdout"
        }
      ]
    },
    {
      "cell_type": "code",
      "metadata": {
        "colab": {
          "base_uri": "https://localhost:8080/",
          "height": 66
        },
        "id": "qff7xz5jluoe",
        "outputId": "3553d423-1732-4e9f-d1e7-6502cfb6f9ff"
      },
      "source": [
        "(exp(m*x)*sin(n*x)/m-n*exp(m*x)*cos(n*x)/m**2)/(1+n**2/m**2) # 인테그랄 앞 부분을 복사하여 그대로 넣고, 인테그랄 앞에 붙는 계수에 1을 더해 나눠줌"
      ],
      "execution_count": null,
      "outputs": [
        {
          "output_type": "execute_result",
          "data": {
            "image/png": "[encoded data removed]",
            "text/latex": "$\\displaystyle \\frac{\\frac{e^{m x} \\sin{\\left(n x \\right)}}{m} - \\frac{n e^{m x} \\cos{\\left(n x \\right)}}{m^{2}}}{1 + \\frac{n^{2}}{m^{2}}}$",
            "text/plain": [
              " m⋅x               m⋅x         \n",
              "ℯ   ⋅sin(n⋅x)   n⋅ℯ   ⋅cos(n⋅x)\n",
              "───────────── - ───────────────\n",
              "      m                 2      \n",
              "                       m       \n",
              "───────────────────────────────\n",
              "                  2            \n",
              "                 n             \n",
              "             1 + ──            \n",
              "                  2            \n",
              "                 m             "
            ]
          },
          "metadata": {
            "tags": []
          },
          "execution_count": 112
        }
      ]
    },
    {
      "cell_type": "code",
      "metadata": {
        "colab": {
          "base_uri": "https://localhost:8080/",
          "height": 70
        },
        "id": "kV4H5Lljl3RK",
        "outputId": "b5b71497-81ae-48ae-9bd2-3855e043122c"
      },
      "source": [
        "simplify(exp(m*x)*sin(n*x)/m-n*exp(m*x)*cos(n*x)/m**2)/(1+n**2/m**2) # 식을 간단하게 만들어주는 함수 적용"
      ],
      "execution_count": null,
      "outputs": [
        {
          "output_type": "execute_result",
          "data": {
            "image/png": "[encoded data removed]",
            "text/latex": "$\\displaystyle \\frac{\\left(m \\sin{\\left(n x \\right)} - n \\cos{\\left(n x \\right)}\\right) e^{m x}}{m^{2} \\left(1 + \\frac{n^{2}}{m^{2}}\\right)}$",
            "text/plain": [
              "                           m⋅x\n",
              "(m⋅sin(n⋅x) - n⋅cos(n⋅x))⋅ℯ   \n",
              "──────────────────────────────\n",
              "            ⎛     2⎞          \n",
              "          2 ⎜    n ⎟          \n",
              "         m ⋅⎜1 + ──⎟          \n",
              "            ⎜     2⎟          \n",
              "            ⎝    m ⎠          "
            ]
          },
          "metadata": {
            "tags": []
          },
          "execution_count": 113
        }
      ]
    },
    {
      "cell_type": "code",
      "metadata": {
        "colab": {
          "base_uri": "https://localhost:8080/",
          "height": 54
        },
        "id": "V0zS2G8FojGZ",
        "outputId": "53aed779-b69d-4a89-a34f-6f6f05f3c636"
      },
      "source": [
        "simplify(integrate(exp(m*x)*sin(n*x),x)) # 사실 그냥 적분을 시켜도 결과값이 잘 출력이 됨. 부분 적분 함수를 만들어서 얻은 결과가 맞는지 확인, 결과가 잘 나오는 것을 볼 수 있음"
      ],
      "execution_count": null,
      "outputs": [
        {
          "output_type": "execute_result",
          "data": {
            "image/png": "[encoded data removed]",
            "text/latex": "$\\displaystyle \\frac{\\left(m \\sin{\\left(n x \\right)} - n \\cos{\\left(n x \\right)}\\right) e^{m x}}{m^{2} + n^{2}}$",
            "text/plain": [
              "                           m⋅x\n",
              "(m⋅sin(n⋅x) - n⋅cos(n⋅x))⋅ℯ   \n",
              "──────────────────────────────\n",
              "            2    2            \n",
              "           m  + n             "
            ]
          },
          "metadata": {
            "tags": []
          },
          "execution_count": 114
        }
      ]
    },
    {
      "cell_type": "code",
      "metadata": {
        "colab": {
          "base_uri": "https://localhost:8080/"
        },
        "id": "-M1oRHhNnH7r",
        "outputId": "2942afd5-b199-46e1-e34e-48200f170ab2"
      },
      "source": [
        "print(Integration_by_parts(cos(n*x),exp(m*x),x,2)) # expmx cosnx에 대해서도 같은 과정을 진행"
      ],
      "execution_count": null,
      "outputs": [
        {
          "output_type": "stream",
          "text": [
            "exp(m*x)*cos(n*x)/m+n*exp(m*x)*sin(n*x)/m**2+Integration_by_parts(-n**2*cos(n*x),exp(m*x)/m**2,x)\n"
          ],
          "name": "stdout"
        }
      ]
    },
    {
      "cell_type": "code",
      "metadata": {
        "colab": {
          "base_uri": "https://localhost:8080/",
          "height": 66
        },
        "id": "Mi1H7tPhnMNG",
        "outputId": "46f3aaa2-b3e3-4255-f6f5-0b97a483c88c"
      },
      "source": [
        "(exp(m*x)*cos(n*x)/m+n*exp(m*x)*sin(n*x)/m**2)/(1+n**2/m**2)"
      ],
      "execution_count": null,
      "outputs": [
        {
          "output_type": "execute_result",
          "data": {
            "image/png": "[encoded data removed]",
            "text/latex": "$\\displaystyle \\frac{\\frac{e^{m x} \\cos{\\left(n x \\right)}}{m} + \\frac{n e^{m x} \\sin{\\left(n x \\right)}}{m^{2}}}{1 + \\frac{n^{2}}{m^{2}}}$",
            "text/plain": [
              " m⋅x               m⋅x         \n",
              "ℯ   ⋅cos(n⋅x)   n⋅ℯ   ⋅sin(n⋅x)\n",
              "───────────── + ───────────────\n",
              "      m                 2      \n",
              "                       m       \n",
              "───────────────────────────────\n",
              "                  2            \n",
              "                 n             \n",
              "             1 + ──            \n",
              "                  2            \n",
              "                 m             "
            ]
          },
          "metadata": {
            "tags": []
          },
          "execution_count": 116
        }
      ]
    },
    {
      "cell_type": "code",
      "metadata": {
        "colab": {
          "base_uri": "https://localhost:8080/",
          "height": 70
        },
        "id": "Tk7CPeqwnU0_",
        "outputId": "8f72a505-8431-4e28-a7e4-364c0ca2dc26"
      },
      "source": [
        "simplify(exp(m*x)*cos(n*x)/m+n*exp(m*x)*sin(n*x)/m**2)/(1+n**2/m**2)"
      ],
      "execution_count": null,
      "outputs": [
        {
          "output_type": "execute_result",
          "data": {
            "image/png": "[encoded data removed]",
            "text/latex": "$\\displaystyle \\frac{\\left(m \\cos{\\left(n x \\right)} + n \\sin{\\left(n x \\right)}\\right) e^{m x}}{m^{2} \\left(1 + \\frac{n^{2}}{m^{2}}\\right)}$",
            "text/plain": [
              "                           m⋅x\n",
              "(m⋅cos(n⋅x) + n⋅sin(n⋅x))⋅ℯ   \n",
              "──────────────────────────────\n",
              "            ⎛     2⎞          \n",
              "          2 ⎜    n ⎟          \n",
              "         m ⋅⎜1 + ──⎟          \n",
              "            ⎜     2⎟          \n",
              "            ⎝    m ⎠          "
            ]
          },
          "metadata": {
            "tags": []
          },
          "execution_count": 117
        }
      ]
    },
    {
      "cell_type": "code",
      "metadata": {
        "colab": {
          "base_uri": "https://localhost:8080/",
          "height": 54
        },
        "id": "QZ1HZp_5oyFF",
        "outputId": "9c3a672f-abc1-4506-be71-1423bdcf2b26"
      },
      "source": [
        "simplify(integrate(exp(m*x)*cos(n*x),x)) # 결과가 잘 나온 것을 확인할 수 있음"
      ],
      "execution_count": null,
      "outputs": [
        {
          "output_type": "execute_result",
          "data": {
            "image/png": "[encoded data removed]",
            "text/latex": "$\\displaystyle \\frac{\\left(m \\cos{\\left(n x \\right)} + n \\sin{\\left(n x \\right)}\\right) e^{m x}}{m^{2} + n^{2}}$",
            "text/plain": [
              "                           m⋅x\n",
              "(m⋅cos(n⋅x) + n⋅sin(n⋅x))⋅ℯ   \n",
              "──────────────────────────────\n",
              "            2    2            \n",
              "           m  + n             "
            ]
          },
          "metadata": {
            "tags": []
          },
          "execution_count": 118
        }
      ]
    },
    {
      "cell_type": "code",
      "metadata": {
        "colab": {
          "base_uri": "https://localhost:8080/"
        },
        "id": "pNAhY2IIX7fd",
        "outputId": "daaed8cd-a610-40da-ddb7-cd1a55862ed1"
      },
      "source": [
        "print(Integration_by_parts((sin((A+B)*x))/2,exp(m*x),x,2))\r\n",
        "print(Integration_by_parts((cos((A-B)*x))/2,exp(m*x),x,2)) # sinAxcosBx = (sin(A+B)x+sin(A-B)x)/2 임을 이용하여 분리하여 따로 따로 적분함"
      ],
      "execution_count": null,
      "outputs": [
        {
          "output_type": "stream",
          "text": [
            "exp(m*x)*sin(x*(A + B))/(2*m)+-(A + B)*exp(m*x)*cos(x*(A + B))/(2*m**2)+Integration_by_parts((-A/2 - B/2)*(A + B)*sin(x*(A + B)),exp(m*x)/m**2,x)\n",
            "exp(m*x)*cos(x*(A - B))/(2*m)+(A - B)*exp(m*x)*sin(x*(A - B))/(2*m**2)+Integration_by_parts(-(A/2 - B/2)*(A - B)*cos(x*(A - B)),exp(m*x)/m**2,x)\n"
          ],
          "name": "stdout"
        }
      ]
    },
    {
      "cell_type": "code",
      "metadata": {
        "id": "8qZgpKRDZLCF"
      },
      "source": [
        "integr1 = (exp(m*x)*sin(x*(A + B))/(2*m)-(A + B)*exp(m*x)*cos(x*(A + B))/(2*m**2))/(1-(-A - B)*(A + B)/m**2) # 앞의 것을 적분한 함수를 integr1이라 지정"
      ],
      "execution_count": null,
      "outputs": []
    },
    {
      "cell_type": "code",
      "metadata": {
        "id": "zNx5BdwAanuK"
      },
      "source": [
        "integr2 = (exp(m*x)*cos(x*(A - B))/(2*m)+(A - B)*exp(m*x)*sin(x*(A - B))/(2*m**2))/(1+(A - B)*(A - B)/m**2) # 뒤의 것을 적분한 함수를 integr2이라 지정"
      ],
      "execution_count": null,
      "outputs": []
    },
    {
      "cell_type": "code",
      "metadata": {
        "colab": {
          "base_uri": "https://localhost:8080/",
          "height": 69
        },
        "id": "MSE1pB8dic7w",
        "outputId": "ba886f06-b708-4296-a253-36d557b12262"
      },
      "source": [
        "integr1 + integr2 # 두 함수를 더함"
      ],
      "execution_count": null,
      "outputs": [
        {
          "output_type": "execute_result",
          "data": {
            "image/png": "[encoded data removed]",
            "text/latex": "$\\displaystyle \\frac{\\frac{e^{m x} \\sin{\\left(x \\left(A + B\\right) \\right)}}{2 m} - \\frac{\\left(A + B\\right) e^{m x} \\cos{\\left(x \\left(A + B\\right) \\right)}}{2 m^{2}}}{1 - \\frac{\\left(- A - B\\right) \\left(A + B\\right)}{m^{2}}} + \\frac{\\frac{e^{m x} \\cos{\\left(x \\left(A - B\\right) \\right)}}{2 m} + \\frac{\\left(A - B\\right) e^{m x} \\sin{\\left(x \\left(A - B\\right) \\right)}}{2 m^{2}}}{1 + \\frac{\\left(A - B\\right)^{2}}{m^{2}}}$",
            "text/plain": [
              " m⋅x                           m⋅x                   m⋅x                      \n",
              "ℯ   ⋅sin(x⋅(A + B))   (A + B)⋅ℯ   ⋅cos(x⋅(A + B))   ℯ   ⋅cos(x⋅(A - B))   (A -\n",
              "─────────────────── - ───────────────────────────   ─────────────────── + ────\n",
              "        2⋅m                          2                      2⋅m               \n",
              "                                  2⋅m                                         \n",
              "───────────────────────────────────────────────── + ──────────────────────────\n",
              "                   (-A - B)⋅(A + B)                                           \n",
              "               1 - ────────────────                                        (A \n",
              "                           2                                           1 + ───\n",
              "                          m                                                   \n",
              "                                                                              \n",
              "\n",
              "     m⋅x               \n",
              " B)⋅ℯ   ⋅sin(x⋅(A - B))\n",
              "───────────────────────\n",
              "           2           \n",
              "        2⋅m            \n",
              "───────────────────────\n",
              "    2                  \n",
              "- B)                   \n",
              "─────                  \n",
              " 2                     \n",
              "m                      "
            ]
          },
          "metadata": {
            "tags": []
          },
          "execution_count": 194
        }
      ]
    },
    {
      "cell_type": "code",
      "metadata": {
        "colab": {
          "base_uri": "https://localhost:8080/",
          "height": 83
        },
        "id": "9JZztHURcjHu",
        "outputId": "97c0b31f-cfa7-4640-e4b5-cc82438a14e2"
      },
      "source": [
        "simplify(integr1 + integr2) # 식을 정리하는 함수 실행"
      ],
      "execution_count": null,
      "outputs": [
        {
          "output_type": "execute_result",
          "data": {
            "image/png": "[encoded data removed]",
            "text/latex": "$\\displaystyle \\frac{\\left(\\left(m^{2} + \\left(A - B\\right)^{2}\\right) \\left(m \\sin{\\left(x \\left(A + B\\right) \\right)} - \\left(A + B\\right) \\cos{\\left(x \\left(A + B\\right) \\right)}\\right) + \\left(m^{2} + \\left(A + B\\right)^{2}\\right) \\left(m \\cos{\\left(x \\left(A - B\\right) \\right)} + \\left(A - B\\right) \\sin{\\left(x \\left(A - B\\right) \\right)}\\right)\\right) e^{m x}}{2 \\left(m^{2} + \\left(A - B\\right)^{2}\\right) \\left(m^{2} + \\left(A + B\\right)^{2}\\right)}$",
            "text/plain": [
              "⎛⎛ 2          2⎞                                               ⎛ 2          2⎞\n",
              "⎝⎝m  + (A - B) ⎠⋅(m⋅sin(x⋅(A + B)) - (A + B)⋅cos(x⋅(A + B))) + ⎝m  + (A + B) ⎠\n",
              "──────────────────────────────────────────────────────────────────────────────\n",
              "                                                 ⎛ 2          2⎞ ⎛ 2          \n",
              "                                               2⋅⎝m  + (A - B) ⎠⋅⎝m  + (A + B)\n",
              "\n",
              "                                            ⎞  m⋅x\n",
              "⋅(m⋅cos(x⋅(A - B)) + (A - B)⋅sin(x⋅(A - B)))⎠⋅ℯ   \n",
              "──────────────────────────────────────────────────\n",
              "2⎞                                                \n",
              " ⎠                                                "
            ]
          },
          "metadata": {
            "tags": []
          },
          "execution_count": 195
        }
      ]
    },
    {
      "cell_type": "code",
      "metadata": {
        "colab": {
          "base_uri": "https://localhost:8080/",
          "height": 78
        },
        "id": "fbDC7d2RjIy-",
        "outputId": "9d34dd8f-cf4a-4f7f-ee47-b19c750873ea"
      },
      "source": [
        "simplify(integrate(sin(A*x)*cos(B*x)*exp(m*x), x)) # 그런데 위의 식과 다른 형태의 식이 나옴"
      ],
      "execution_count": null,
      "outputs": [
        {
          "output_type": "execute_result",
          "data": {
            "image/png": "[encoded data removed]",
            "text/latex": "$\\displaystyle \\frac{\\left(- A^{3} \\cos{\\left(A x \\right)} \\cos{\\left(B x \\right)} - A^{2} B \\sin{\\left(A x \\right)} \\sin{\\left(B x \\right)} + A^{2} m \\sin{\\left(A x \\right)} \\cos{\\left(B x \\right)} + A B^{2} \\cos{\\left(A x \\right)} \\cos{\\left(B x \\right)} - 2 A B m \\sin{\\left(B x \\right)} \\cos{\\left(A x \\right)} - A m^{2} \\cos{\\left(A x \\right)} \\cos{\\left(B x \\right)} + B^{3} \\sin{\\left(A x \\right)} \\sin{\\left(B x \\right)} + B^{2} m \\sin{\\left(A x \\right)} \\cos{\\left(B x \\right)} + B m^{2} \\sin{\\left(A x \\right)} \\sin{\\left(B x \\right)} + m^{3} \\sin{\\left(A x \\right)} \\cos{\\left(B x \\right)}\\right) e^{m x}}{A^{4} - 2 A^{2} B^{2} + 2 A^{2} m^{2} + B^{4} + 2 B^{2} m^{2} + m^{4}}$",
            "text/plain": [
              "⎛   3                      2                        2                         \n",
              "⎝- A ⋅cos(A⋅x)⋅cos(B⋅x) - A ⋅B⋅sin(A⋅x)⋅sin(B⋅x) + A ⋅m⋅sin(A⋅x)⋅cos(B⋅x) + A⋅\n",
              "──────────────────────────────────────────────────────────────────────────────\n",
              "                                                                              \n",
              "                                                                              \n",
              "\n",
              " 2                                                    2                      3\n",
              "B ⋅cos(A⋅x)⋅cos(B⋅x) - 2⋅A⋅B⋅m⋅sin(B⋅x)⋅cos(A⋅x) - A⋅m ⋅cos(A⋅x)⋅cos(B⋅x) + B \n",
              "──────────────────────────────────────────────────────────────────────────────\n",
              "                             4      2  2      2  2    4      2  2    4        \n",
              "                            A  - 2⋅A ⋅B  + 2⋅A ⋅m  + B  + 2⋅B ⋅m  + m         \n",
              "\n",
              "                      2                          2                      3     \n",
              "⋅sin(A⋅x)⋅sin(B⋅x) + B ⋅m⋅sin(A⋅x)⋅cos(B⋅x) + B⋅m ⋅sin(A⋅x)⋅sin(B⋅x) + m ⋅sin(\n",
              "──────────────────────────────────────────────────────────────────────────────\n",
              "                                                                              \n",
              "                                                                              \n",
              "\n",
              "             ⎞  m⋅x\n",
              "A⋅x)⋅cos(B⋅x)⎠⋅ℯ   \n",
              "───────────────────\n",
              "                   \n",
              "                   "
            ]
          },
          "metadata": {
            "tags": []
          },
          "execution_count": 196
        }
      ]
    },
    {
      "cell_type": "code",
      "metadata": {
        "colab": {
          "base_uri": "https://localhost:8080/"
        },
        "id": "CAkV9fn8VJKE",
        "outputId": "6160158c-4a98-4907-f3a7-26ccf29a835c"
      },
      "source": [
        "import random as r # 랜덤함수로 A, B, m, x에 임의의 값을 대입해서 정수부분만 끊어서 실제 답과 같은지 비교하는 코드를 작성\r\n",
        "for i in range(20):\r\n",
        "  A,B,m = (pi*r.randint(1,4))/4, (pi*r.randint(1,4))/4, r.randint(1,5)\r\n",
        "  for x in range(2):\r\n",
        "    integr1 = (exp(m*x)*sin(x*(A + B))/(2*m)-(A + B)*exp(m*x)*cos(x*(A + B))/(2*m**2))/(1-(-A - B)*(A + B)/m**2)\r\n",
        "    integr2 = (exp(m*x)*cos(x*(A - B))/(2*m)+(A - B)*exp(m*x)*sin(x*(A - B))/(2*m**2))/(1+(A - B)*(A - B)/m**2)\r\n",
        "    integr_from_code = integr1 + integr2\r\n",
        "    integr_answer =(-A**3*cos(A*x)*cos(B*x) - A**2*B*sin(A*x)*sin(B*x) + A**2*m*sin(A*x)*cos(B*x) + A*B**2*cos(A*x)*cos(B*x) - 2*A*B*m*sin(B*x)*cos(A*x) - A*m**2*cos(A*x)*cos(B*x) + B**3*sin(A*x)*sin(B*x) + B**2*m*sin(A*x)*cos(B*x) + B*m**2*sin(A*x)*sin(B*x) + m**3*sin(A*x)*cos(B*x))*exp(m*x)/(A**4 - 2*A**2*B**2 + 2*A**2*m**2 + B**4 + 2*B**2*m**2 + m**4)\r\n",
        "    if int(integr_from_code) != int(integr_answer):\r\n",
        "      print(\"False\",int(simplify(integr_from_code)), int(simplify(integr_answer))) \r\n",
        "    else:\r\n",
        "      print(\"True\") \r\n",
        "# sin, cos, exp 함수가 정수값 단위로 끊어지기 때문에 오차가 생기는 경우가 많지만 정답률이 괜찮은 편\r\n",
        "# 실제로 손으로 계산 했을 때 위에서 코드로 구한 값이 나옴"
      ],
      "execution_count": null,
      "outputs": [
        {
          "output_type": "stream",
          "text": [
            "True\n",
            "False 1 -18\n",
            "True\n",
            "False 1 0\n",
            "True\n",
            "False -3 -21\n",
            "True\n",
            "False 1 0\n",
            "True\n",
            "True\n",
            "True\n",
            "False 3 1\n",
            "True\n",
            "False 5 -3\n",
            "True\n",
            "False 3 -2\n",
            "True\n",
            "False 1 0\n",
            "True\n",
            "False 5 -3\n",
            "True\n",
            "False 5 1\n",
            "True\n",
            "False 1 -18\n",
            "True\n",
            "False 1 0\n",
            "True\n",
            "False 1 0\n",
            "True\n",
            "False 0 -2\n",
            "True\n",
            "False 1 -1\n",
            "True\n",
            "False 3 -3\n",
            "True\n",
            "True\n",
            "True\n",
            "False 1 0\n",
            "True\n",
            "False 5 -3\n"
          ],
          "name": "stdout"
        }
      ]
    }
  ]
}